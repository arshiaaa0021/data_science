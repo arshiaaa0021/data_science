{
 "cells": [
  {
   "cell_type": "markdown",
   "id": "0f4ff0cf",
   "metadata": {},
   "source": [
    "# Input"
   ]
  },
  {
   "cell_type": "code",
   "execution_count": 1,
   "id": "174bc2ff",
   "metadata": {},
   "outputs": [
    {
     "name": "stdout",
     "output_type": "stream",
     "text": [
      "whats your name?Pegah\n",
      "hi Pegah\n"
     ]
    }
   ],
   "source": [
    "name=input('whats your name?')\n",
    "print('hi', name)"
   ]
  },
  {
   "cell_type": "markdown",
   "id": "fed020f4",
   "metadata": {},
   "source": [
    "# Math"
   ]
  },
  {
   "cell_type": "code",
   "execution_count": 3,
   "id": "d580cecd",
   "metadata": {},
   "outputs": [],
   "source": [
    "import math"
   ]
  },
  {
   "cell_type": "code",
   "execution_count": 4,
   "id": "2e916c5e",
   "metadata": {},
   "outputs": [
    {
     "data": {
      "text/plain": [
       "3"
      ]
     },
     "execution_count": 4,
     "metadata": {},
     "output_type": "execute_result"
    }
   ],
   "source": [
    "math.ceil(2.9)"
   ]
  },
  {
   "cell_type": "code",
   "execution_count": 5,
   "id": "0747a1fe",
   "metadata": {},
   "outputs": [
    {
     "data": {
      "text/plain": [
       "2"
      ]
     },
     "execution_count": 5,
     "metadata": {},
     "output_type": "execute_result"
    }
   ],
   "source": [
    "math.floor(2.9)"
   ]
  },
  {
   "cell_type": "markdown",
   "id": "0c40e3fd",
   "metadata": {},
   "source": [
    "# IF\n",
    "\n",
    "Decision making is anticipation of conditions occurring while execution of the program and specifying actions taken according to the conditions.\n",
    "Decision structures evaluate multiple expressions which produce TRUE or FALSE as outcome. You need to determine which action to take and which statements to execute if outcome is TRUE or FALSE otherwise.\n",
    "Following is the general form of a typical decision making structure found in most of the programming languages −\n",
    "\n",
    "Python programming language assumes any non-zero and non-null values as TRUE, and if it is either zero or null, then it is assumed as FALSE value.\n"
   ]
  },
  {
   "cell_type": "code",
   "execution_count": 7,
   "id": "cbc95daf",
   "metadata": {},
   "outputs": [
    {
     "name": "stdout",
     "output_type": "stream",
     "text": [
      "b is greate than a\n"
     ]
    }
   ],
   "source": [
    "a=3\n",
    "b=4\n",
    "if a>=b:\n",
    "    print('a is greate than b')\n",
    "    \n",
    "else: \n",
    "    print('b is greate than a')"
   ]
  },
  {
   "cell_type": "code",
   "execution_count": 10,
   "id": "6ec8e9a7",
   "metadata": {},
   "outputs": [
    {
     "name": "stdout",
     "output_type": "stream",
     "text": [
      "It's lovely day\n"
     ]
    }
   ],
   "source": [
    "is_cold=False\n",
    "is_hot=False \n",
    "\n",
    "if is_hot: \n",
    "    print('drink water')\n",
    "    \n",
    "elif is_cold:\n",
    "    print(\"It's cold\")\n",
    "        \n",
    "else:\n",
    "    print(\"It's lovely day\")\n",
    "    \n",
    "    \n",
    "    "
   ]
  },
  {
   "cell_type": "markdown",
   "id": "f20356c1",
   "metadata": {},
   "source": [
    "# While"
   ]
  },
  {
   "cell_type": "code",
   "execution_count": 11,
   "id": "85d50e9a",
   "metadata": {},
   "outputs": [
    {
     "name": "stdout",
     "output_type": "stream",
     "text": [
      "1\n",
      "2\n",
      "3\n",
      "4\n",
      "5\n",
      "Done\n"
     ]
    }
   ],
   "source": [
    "i=1\n",
    "while i <=5:\n",
    "    print(i)\n",
    "    i+=1 # i=i+1\n",
    "    \n",
    "print(\"Done\")"
   ]
  },
  {
   "cell_type": "code",
   "execution_count": 13,
   "id": "5358ba0e",
   "metadata": {},
   "outputs": [
    {
     "name": "stdout",
     "output_type": "stream",
     "text": [
      "222\n"
     ]
    }
   ],
   "source": [
    "print('2'*3)"
   ]
  },
  {
   "cell_type": "code",
   "execution_count": 14,
   "id": "f38072d1",
   "metadata": {},
   "outputs": [
    {
     "name": "stdout",
     "output_type": "stream",
     "text": [
      "*\n",
      "**\n",
      "***\n",
      "****\n",
      "*****\n"
     ]
    }
   ],
   "source": [
    "i=1\n",
    "while i <=5:\n",
    "    print('*' * i)\n",
    "    i+=1\n",
    "    "
   ]
  },
  {
   "cell_type": "markdown",
   "id": "7db49491",
   "metadata": {},
   "source": [
    "# Guessing game"
   ]
  },
  {
   "cell_type": "code",
   "execution_count": 16,
   "id": "56d6afd3",
   "metadata": {},
   "outputs": [
    {
     "name": "stdout",
     "output_type": "stream",
     "text": [
      "Guess:9\n",
      "you win\n"
     ]
    }
   ],
   "source": [
    "secret = 9\n",
    "guess_count=0\n",
    "guess_limit=3\n",
    "\n",
    "while guess_count <= guess_limit:\n",
    "    guess=int(input('Guess:'))\n",
    "    guess_count +=1\n",
    "    if guess == secret:\n",
    "        print('you win')\n",
    "        \n",
    "        break\n",
    "    else:\n",
    "        print('sorry!')"
   ]
  },
  {
   "cell_type": "markdown",
   "id": "4e7c1fb7",
   "metadata": {},
   "source": [
    "# For loop\n",
    "\n",
    "In general, statements are executed sequentially: The first statement in a function is executed first, followed by the second, and so on. There may be a situation when you need to execute a block of code several number of times.\n",
    "Programming languages provide various control structures that allow for more complicated execution paths.\n",
    "A loop statement allows us to execute a statement or group of statements multiple times. The following diagram illustrates a loop statement −\n"
   ]
  },
  {
   "cell_type": "code",
   "execution_count": 17,
   "id": "6bbcf1cb",
   "metadata": {},
   "outputs": [
    {
     "name": "stdout",
     "output_type": "stream",
     "text": [
      "P\n",
      "e\n",
      "g\n",
      "a\n",
      "h\n"
     ]
    }
   ],
   "source": [
    "for item in \"Pegah\":\n",
    "    print(item)"
   ]
  },
  {
   "cell_type": "code",
   "execution_count": 18,
   "id": "68d7bbdf",
   "metadata": {},
   "outputs": [
    {
     "name": "stdout",
     "output_type": "stream",
     "text": [
      "mosh\n",
      "peg\n",
      "sarah\n"
     ]
    }
   ],
   "source": [
    "for item in ['mosh', 'peg', 'sarah']:\n",
    "    print(item)"
   ]
  },
  {
   "cell_type": "code",
   "execution_count": 21,
   "id": "ca300460",
   "metadata": {},
   "outputs": [
    {
     "name": "stdout",
     "output_type": "stream",
     "text": [
      "0\n",
      "1\n",
      "2\n",
      "3\n",
      "4\n",
      "5\n",
      "6\n",
      "7\n",
      "8\n",
      "9\n"
     ]
    }
   ],
   "source": [
    "for num in range (10):\n",
    "    print(num)"
   ]
  },
  {
   "cell_type": "code",
   "execution_count": 22,
   "id": "1d95f518",
   "metadata": {},
   "outputs": [
    {
     "name": "stdout",
     "output_type": "stream",
     "text": [
      "5\n",
      "6\n",
      "7\n",
      "8\n",
      "9\n"
     ]
    }
   ],
   "source": [
    "for item in range (5,10):\n",
    "    print(item)"
   ]
  },
  {
   "cell_type": "code",
   "execution_count": 23,
   "id": "7f537659",
   "metadata": {},
   "outputs": [
    {
     "name": "stdout",
     "output_type": "stream",
     "text": [
      "5\n",
      "7\n",
      "9\n"
     ]
    }
   ],
   "source": [
    "for item in range (5,10,2):\n",
    "    print(item)"
   ]
  },
  {
   "cell_type": "code",
   "execution_count": 25,
   "id": "2111a5eb",
   "metadata": {},
   "outputs": [
    {
     "name": "stdout",
     "output_type": "stream",
     "text": [
      "Total: 60\n"
     ]
    }
   ],
   "source": [
    "prices = [10,20,30]\n",
    "total=0\n",
    "\n",
    "for item in prices:\n",
    "    total += item\n",
    "    \n",
    "print(f\"Total: {total}\")"
   ]
  },
  {
   "cell_type": "markdown",
   "id": "a14d825c",
   "metadata": {},
   "source": [
    "# nested loop"
   ]
  },
  {
   "cell_type": "code",
   "execution_count": 27,
   "id": "a3b5ba50",
   "metadata": {},
   "outputs": [
    {
     "name": "stdout",
     "output_type": "stream",
     "text": [
      "(0, 0)\n",
      "(0, 1)\n",
      "(0, 2)\n",
      "(1, 0)\n",
      "(1, 1)\n",
      "(1, 2)\n",
      "(2, 0)\n",
      "(2, 1)\n",
      "(2, 2)\n",
      "(3, 0)\n",
      "(3, 1)\n",
      "(3, 2)\n"
     ]
    }
   ],
   "source": [
    "for x in range (4): \n",
    "    for y in range(3):\n",
    "        print(f\"({x}, {y})\")"
   ]
  },
  {
   "cell_type": "code",
   "execution_count": 28,
   "id": "6d2d4c4e",
   "metadata": {},
   "outputs": [
    {
     "name": "stdout",
     "output_type": "stream",
     "text": [
      " xxxxx\n",
      " xx\n",
      " xxxxx\n",
      " xx\n",
      " xx\n"
     ]
    }
   ],
   "source": [
    "numbers = [5,2,5,2,2]\n",
    "\n",
    "for num in numbers:\n",
    "    out= \" \"\n",
    "    for i in range (num):\n",
    "        out += 'x'\n",
    "    print(out)"
   ]
  },
  {
   "cell_type": "markdown",
   "id": "32c6f3ed",
   "metadata": {},
   "source": [
    "# A function is a block of organized, reusable code that is used to perform a single, related action. Functions provide better modularity for your application and a high degree of code reusing.\n",
    "As you already know, Python gives you many built-in functions like print(), etc. but you can also create your own functions. These functions are called user-defined functions.\n",
    "Defining a Function\n",
    "\n",
    "You can define functions to provide the required functionality. Here are simple rules to define a function in Python.\n",
    "Function blocks begin with the keyword def followed by the function name and parentheses ( ( ) ).\n",
    "Any input parameters or arguments should be placed within these parentheses. You can also define parameters inside these parentheses.\n",
    "The first statement of a function can be an optional statement - the documentation string of the function or docstring.\n",
    "The code block within every function starts with a colon (:) and is indented.\n",
    "The statement return [expression] exits a function, optionally passing back an expression to the caller. A return statement with no arguments is the same as return None.\n"
   ]
  },
  {
   "cell_type": "code",
   "execution_count": 29,
   "id": "e74abacd",
   "metadata": {},
   "outputs": [
    {
     "name": "stdout",
     "output_type": "stream",
     "text": [
      "hi Pegah\n"
     ]
    }
   ],
   "source": [
    "def greet_user():\n",
    "    print('hi Pegah')\n",
    "    \n",
    "    \n",
    "# call the function\n",
    "greet_user()\n",
    "    "
   ]
  },
  {
   "cell_type": "code",
   "execution_count": 30,
   "id": "acbd951f",
   "metadata": {},
   "outputs": [
    {
     "name": "stdout",
     "output_type": "stream",
     "text": [
      "hi Pegah\n"
     ]
    }
   ],
   "source": [
    "greet_user()"
   ]
  },
  {
   "cell_type": "code",
   "execution_count": 31,
   "id": "2907bf80",
   "metadata": {},
   "outputs": [
    {
     "name": "stdout",
     "output_type": "stream",
     "text": [
      "hi Pegah\n"
     ]
    }
   ],
   "source": [
    "def greet_user(name):\n",
    "    print(f'hi {name}')\n",
    "    \n",
    "    \n",
    "# call the function\n",
    "greet_user('Pegah')"
   ]
  },
  {
   "cell_type": "code",
   "execution_count": 32,
   "id": "502f4e40",
   "metadata": {},
   "outputs": [
    {
     "name": "stdout",
     "output_type": "stream",
     "text": [
      "hi Ali\n"
     ]
    }
   ],
   "source": [
    "greet_user('Ali')"
   ]
  },
  {
   "cell_type": "code",
   "execution_count": 33,
   "id": "1bad2e72",
   "metadata": {},
   "outputs": [
    {
     "data": {
      "text/plain": [
       "9"
      ]
     },
     "execution_count": 33,
     "metadata": {},
     "output_type": "execute_result"
    }
   ],
   "source": [
    "# Return statement\n",
    "\n",
    "def square(num):\n",
    "    return num*num\n",
    "\n",
    "square(3)"
   ]
  },
  {
   "cell_type": "code",
   "execution_count": 34,
   "id": "9f507e7b",
   "metadata": {},
   "outputs": [
    {
     "data": {
      "text/plain": [
       "16"
      ]
     },
     "execution_count": 34,
     "metadata": {},
     "output_type": "execute_result"
    }
   ],
   "source": [
    "square(4)"
   ]
  },
  {
   "cell_type": "code",
   "execution_count": 35,
   "id": "ac878b7b",
   "metadata": {},
   "outputs": [
    {
     "name": "stdout",
     "output_type": "stream",
     "text": [
      "draw\n"
     ]
    }
   ],
   "source": [
    "# Classes\n",
    "\n",
    "class Point:\n",
    "    \n",
    "    def move(self):\n",
    "        print(\"move\")\n",
    "        \n",
    "        \n",
    "    def draw(self):\n",
    "        print(\"draw\")\n",
    "        \n",
    "\n",
    "point1= Point() # poit1 is an object of Point class\n",
    "\n",
    "point1.draw()\n"
   ]
  },
  {
   "cell_type": "code",
   "execution_count": null,
   "id": "943c859e",
   "metadata": {},
   "outputs": [],
   "source": []
  },
  {
   "cell_type": "code",
   "execution_count": 36,
   "id": "aabbe937",
   "metadata": {},
   "outputs": [],
   "source": [
    "def multiplication(x,y):\n",
    "    print(x*y)"
   ]
  },
  {
   "cell_type": "code",
   "execution_count": 37,
   "id": "595af6b0",
   "metadata": {},
   "outputs": [
    {
     "name": "stdout",
     "output_type": "stream",
     "text": [
      "6\n"
     ]
    }
   ],
   "source": [
    "multiplication(2,3)"
   ]
  },
  {
   "cell_type": "code",
   "execution_count": null,
   "id": "66672c95",
   "metadata": {},
   "outputs": [],
   "source": [
    "# attributes of object\n",
    "point1.x=10\n",
    "point1.y=20"
   ]
  },
  {
   "cell_type": "markdown",
   "id": "4e6a4f1a",
   "metadata": {},
   "source": [
    "# Constructor\n",
    "\n",
    "A function which is called at the time of creating an object\n"
   ]
  },
  {
   "cell_type": "code",
   "execution_count": 39,
   "id": "b8358c70",
   "metadata": {},
   "outputs": [
    {
     "name": "stdout",
     "output_type": "stream",
     "text": [
      "20\n"
     ]
    }
   ],
   "source": [
    "class Point:\n",
    "    \n",
    "    def __init__(self,x,y):\n",
    "        self.x=x\n",
    "        self.y=y\n",
    "        \n",
    "    \n",
    "point= Point(10,20)\n",
    "print(point.y)"
   ]
  },
  {
   "cell_type": "code",
   "execution_count": 40,
   "id": "808ca0f0",
   "metadata": {},
   "outputs": [
    {
     "name": "stdout",
     "output_type": "stream",
     "text": [
      "Talk\n"
     ]
    }
   ],
   "source": [
    "class Person:\n",
    "    def talk(self):\n",
    "        print('Talk')\n",
    "        \n",
    "John=Person()\n",
    "John.talk()"
   ]
  },
  {
   "cell_type": "code",
   "execution_count": null,
   "id": "c6771eb6",
   "metadata": {},
   "outputs": [],
   "source": []
  }
 ],
 "metadata": {
  "kernelspec": {
   "display_name": "Python 3 (ipykernel)",
   "language": "python",
   "name": "python3"
  },
  "language_info": {
   "codemirror_mode": {
    "name": "ipython",
    "version": 3
   },
   "file_extension": ".py",
   "mimetype": "text/x-python",
   "name": "python",
   "nbconvert_exporter": "python",
   "pygments_lexer": "ipython3",
   "version": "3.9.0"
  }
 },
 "nbformat": 4,
 "nbformat_minor": 5
}
